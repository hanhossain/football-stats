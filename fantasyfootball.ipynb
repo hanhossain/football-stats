{
 "cells": [
  {
   "cell_type": "code",
   "execution_count": 4,
   "metadata": {},
   "outputs": [],
   "source": [
    "import json\n",
    "import pandas as pd\n",
    "import requests"
   ]
  },
  {
   "cell_type": "code",
   "execution_count": 5,
   "metadata": {},
   "outputs": [],
   "source": [
    "# get players\n",
    "players = requests.get('https://api.sleeper.app/v1/players/nfl').json()\n",
    "\n",
    "with open('data/players.json', 'w') as f:\n",
    "    json.dump(players, f, indent=4)"
   ]
  },
  {
   "cell_type": "code",
   "execution_count": 6,
   "metadata": {},
   "outputs": [
    {
     "data": {
      "text/html": [
       "<div>\n",
       "<style scoped>\n",
       "    .dataframe tbody tr th:only-of-type {\n",
       "        vertical-align: middle;\n",
       "    }\n",
       "\n",
       "    .dataframe tbody tr th {\n",
       "        vertical-align: top;\n",
       "    }\n",
       "\n",
       "    .dataframe thead th {\n",
       "        text-align: right;\n",
       "    }\n",
       "</style>\n",
       "<table border=\"1\" class=\"dataframe\">\n",
       "  <thead>\n",
       "    <tr style=\"text-align: right;\">\n",
       "      <th></th>\n",
       "      <th>name</th>\n",
       "      <th>position</th>\n",
       "      <th>team</th>\n",
       "      <th>status</th>\n",
       "      <th>injury_status</th>\n",
       "      <th>player_id</th>\n",
       "    </tr>\n",
       "  </thead>\n",
       "  <tbody>\n",
       "    <tr>\n",
       "      <th>5870</th>\n",
       "      <td>Daniel Jones</td>\n",
       "      <td>QB</td>\n",
       "      <td>NYG</td>\n",
       "      <td>Active</td>\n",
       "      <td>None</td>\n",
       "      <td>5870</td>\n",
       "    </tr>\n",
       "    <tr>\n",
       "      <th>6343</th>\n",
       "      <td>Manny Wilkins</td>\n",
       "      <td>QB</td>\n",
       "      <td>None</td>\n",
       "      <td>Active</td>\n",
       "      <td>None</td>\n",
       "      <td>6343</td>\n",
       "    </tr>\n",
       "    <tr>\n",
       "      <th>8595</th>\n",
       "      <td>Kyric McGowan</td>\n",
       "      <td>WR</td>\n",
       "      <td>WAS</td>\n",
       "      <td>Active</td>\n",
       "      <td>None</td>\n",
       "      <td>8595</td>\n",
       "    </tr>\n",
       "    <tr>\n",
       "      <th>3199</th>\n",
       "      <td>Michael Thomas</td>\n",
       "      <td>WR</td>\n",
       "      <td>NO</td>\n",
       "      <td>Active</td>\n",
       "      <td>None</td>\n",
       "      <td>3199</td>\n",
       "    </tr>\n",
       "    <tr>\n",
       "      <th>6487</th>\n",
       "      <td>Charles Scarff</td>\n",
       "      <td>TE</td>\n",
       "      <td>None</td>\n",
       "      <td>Inactive</td>\n",
       "      <td>None</td>\n",
       "      <td>6487</td>\n",
       "    </tr>\n",
       "  </tbody>\n",
       "</table>\n",
       "</div>"
      ],
      "text/plain": [
       "                name position  team    status injury_status player_id\n",
       "5870    Daniel Jones       QB   NYG    Active          None      5870\n",
       "6343   Manny Wilkins       QB  None    Active          None      6343\n",
       "8595   Kyric McGowan       WR   WAS    Active          None      8595\n",
       "3199  Michael Thomas       WR    NO    Active          None      3199\n",
       "6487  Charles Scarff       TE  None  Inactive          None      6487"
      ]
     },
     "execution_count": 6,
     "metadata": {},
     "output_type": "execute_result"
    }
   ],
   "source": [
    "# read data files\n",
    "players_df = pd.read_json('data/players.json').transpose()[['first_name', 'last_name', 'position', 'team', 'status', 'injury_status', 'active', 'player_id']]\n",
    "\n",
    "# filter players\n",
    "players_df = players_df[players_df['position'].isin(['QB', 'RB', 'WR', 'TE', 'K', 'DEF'])]\n",
    "players_df = players_df[players_df['active']]\n",
    "\n",
    "# project players\n",
    "players_df['name'] = players_df['first_name'] + \" \" + players_df['last_name']\n",
    "players_df = players_df[['name', 'position', 'team', 'status', 'injury_status', 'player_id']]\n",
    "players_df.head()"
   ]
  }
 ],
 "metadata": {
  "kernelspec": {
   "display_name": "Python 3.10.6 64-bit",
   "language": "python",
   "name": "python3"
  },
  "language_info": {
   "codemirror_mode": {
    "name": "ipython",
    "version": 3
   },
   "file_extension": ".py",
   "mimetype": "text/x-python",
   "name": "python",
   "nbconvert_exporter": "python",
   "pygments_lexer": "ipython3",
   "version": "3.10.6"
  },
  "orig_nbformat": 4,
  "vscode": {
   "interpreter": {
    "hash": "aee8b7b246df8f9039afb4144a1f6fd8d2ca17a180786b69acc140d282b71a49"
   }
  }
 },
 "nbformat": 4,
 "nbformat_minor": 2
}
